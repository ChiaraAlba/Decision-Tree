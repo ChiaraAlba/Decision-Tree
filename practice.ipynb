{
  "nbformat": 4,
  "nbformat_minor": 0,
  "metadata": {
    "colab": {
      "name": "practice.ipynb",
      "version": "0.3.2",
      "provenance": [],
      "include_colab_link": true
    },
    "kernelspec": {
      "name": "python3",
      "display_name": "Python 3"
    }
  },
  "cells": [
    {
      "cell_type": "markdown",
      "metadata": {
        "id": "view-in-github",
        "colab_type": "text"
      },
      "source": [
        "<a href=\"https://colab.research.google.com/github/ChiaraAlba/Decision-Tree/blob/master/practice.ipynb\" target=\"_parent\"><img src=\"https://colab.research.google.com/assets/colab-badge.svg\" alt=\"Open In Colab\"/></a>"
      ]
    },
    {
      "cell_type": "code",
      "metadata": {
        "id": "GNE31qNcxwYS",
        "colab_type": "code",
        "colab": {}
      },
      "source": [
        "import numpy as np\n",
        "import matplotlib.pyplot as plt"
      ],
      "execution_count": 0,
      "outputs": []
    },
    {
      "cell_type": "code",
      "metadata": {
        "id": "0ctdqxgVoArv",
        "colab_type": "code",
        "colab": {
          "base_uri": "https://localhost:8080/",
          "height": 281
        },
        "outputId": "f2485d3c-9950-46bc-f352-773e5ef0c86b"
      },
      "source": [
        "X = 2 * np.random.rand(100,1)\n",
        "y = 4 + 3 * X + np.random.rand(100,1)\n",
        "\n",
        "plt.scatter(X,y)\n",
        "plt.title('Randomly generated linear dataset')\n",
        "plt.show()"
      ],
      "execution_count": 2,
      "outputs": [
        {
          "output_type": "display_data",
          "data": {
            "image/png": "[encoded data removed]",
            "text/plain": [
              "<Figure size 432x288 with 1 Axes>"
            ]
          },
          "metadata": {
            "tags": []
          }
        }
      ]
    },
    {
      "cell_type": "markdown",
      "metadata": {
        "id": "ln-pWASVoOYH",
        "colab_type": "text"
      },
      "source": [
        "# Normal Equation\n",
        "## Closed-form solution\n",
        "This equation allows us to find the value of theta minimising the MSE (mean square error) given a linear regression hypothesis\n",
        "\n",
        "$ \\Theta_{opt} = (X^T \\cdot  X)^{-1}  \\cdot X^T \\cdot y $\n",
        "\n"
      ]
    },
    {
      "cell_type": "code",
      "metadata": {
        "id": "dwzhZ3PtoQMm",
        "colab_type": "code",
        "colab": {
          "base_uri": "https://localhost:8080/",
          "height": 52
        },
        "outputId": "10caf937-4615-4c80-b669-ae125934eca9"
      },
      "source": [
        "X_complete = np.c_[np.ones((100,1)), X]  # We add a column of ones (c_[] to add c) to X\n",
        "theta_opt = np.linalg.inv(X_complete.T.dot(X_complete)).dot(X_complete.T).dot(y)\n",
        "theta_opt"
      ],
      "execution_count": 3,
      "outputs": [
        {
          "output_type": "execute_result",
          "data": {
            "text/plain": [
              "array([[4.55962238],\n",
              "       [2.96919288]])"
            ]
          },
          "metadata": {
            "tags": []
          },
          "execution_count": 3
        }
      ]
    },
    {
      "cell_type": "markdown",
      "metadata": {
        "id": "IPudawbhoZq_",
        "colab_type": "text"
      },
      "source": [
        "Our linear hypothesis was given by:\n",
        "\n",
        "$ y = 4 + 3 x + Gaussian\\,noise$\n",
        "\n",
        "Therefore $\\theta_1 = 4$ and $\\theta_2 = 3$. Our optimal values for $\\Theta$ are close enough.\n",
        "With $\\Theta_{opt}$ we can now make predictions."
      ]
    },
    {
      "cell_type": "code",
      "metadata": {
        "id": "OMQfBgyYoWtv",
        "colab_type": "code",
        "colab": {}
      },
      "source": [
        "X_new = np.array([[0], [2]])\n",
        "X_new = np.c_[np.ones((2,1)), X_new]\n",
        "\n",
        "y_predict = X_new.dot(theta_opt)"
      ],
      "execution_count": 0,
      "outputs": []
    },
    {
      "cell_type": "code",
      "metadata": {
        "id": "k2gvl8KjohKf",
        "colab_type": "code",
        "colab": {
          "base_uri": "https://localhost:8080/",
          "height": 281
        },
        "outputId": "163729d1-9748-4079-9c1d-448327e566a1"
      },
      "source": [
        "plt.scatter(X, y)\n",
        "plt.plot(X_new, y_predict)\n",
        "plt.axis([0,2,0,15])\n",
        "plt.title('Linear regression model prediction')\n",
        "plt.show()"
      ],
      "execution_count": 5,
      "outputs": [
        {
          "output_type": "display_data",
          "data": {
            "image/png": "[encoded data removed]",
            "text/plain": [
              "<Figure size 432x288 with 1 Axes>"
            ]
          },
          "metadata": {
            "tags": []
          }
        }
      ]
    },
    {
      "cell_type": "markdown",
      "metadata": {
        "id": "UljPgFlyong3",
        "colab_type": "text"
      },
      "source": [
        "###Equivalently using Scikit-Learn\n",
        "\n"
      ]
    },
    {
      "cell_type": "code",
      "metadata": {
        "id": "GGM2Yt-dooi-",
        "colab_type": "code",
        "colab": {
          "base_uri": "https://localhost:8080/",
          "height": 34
        },
        "outputId": "dc8d1a59-2db5-4f4c-9d85-0a67f5534f5c"
      },
      "source": [
        "from sklearn.linear_model import LinearRegression\n",
        "lin_reg = LinearRegression()\n",
        "lin_reg.fit(X,y)\n",
        "lin_reg.intercept_, lin_reg.coef_  # It produces separately the bias term (called intercept) and the coefficients"
      ],
      "execution_count": 6,
      "outputs": [
        {
          "output_type": "execute_result",
          "data": {
            "text/plain": [
              "(array([4.55962238]), array([[2.96919288]]))"
            ]
          },
          "metadata": {
            "tags": []
          },
          "execution_count": 6
        }
      ]
    },
    {
      "cell_type": "code",
      "metadata": {
        "id": "OySlmzTwoyEQ",
        "colab_type": "code",
        "colab": {
          "base_uri": "https://localhost:8080/",
          "height": 52
        },
        "outputId": "5de23208-4712-42b0-d048-b7cec424fba4"
      },
      "source": [
        "X_new = np.array([[0], [2]])\n",
        "lin_reg.predict(X_new)"
      ],
      "execution_count": 7,
      "outputs": [
        {
          "output_type": "execute_result",
          "data": {
            "text/plain": [
              "array([[ 4.55962238],\n",
              "       [10.49800815]])"
            ]
          },
          "metadata": {
            "tags": []
          },
          "execution_count": 7
        }
      ]
    },
    {
      "cell_type": "markdown",
      "metadata": {
        "id": "zxhpKBOgpPg2",
        "colab_type": "text"
      },
      "source": [
        " # Batch Gradient Descent\n",
        " \n",
        "$ \\Theta^{n+1} = \\Theta^{n} - \\eta \\nabla_{\\Theta}MSE(\\Theta^n)$\n",
        "\n",
        "$\\eta$ is the **learning rate**"
      ]
    },
    {
      "cell_type": "code",
      "metadata": {
        "id": "Zca5-0e_pQ5f",
        "colab_type": "code",
        "colab": {}
      },
      "source": [
        "eta = 0.1\n",
        "n_iterations = 1000\n",
        "m = 100\n",
        "\n"
      ],
      "execution_count": 0,
      "outputs": []
    }
  ]
}